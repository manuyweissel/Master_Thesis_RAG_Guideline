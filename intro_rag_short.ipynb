{
 "cells": [
  {
   "cell_type": "markdown",
   "metadata": {
    "id": "NDsTUvKjwHBW"
   },
   "source": [
    "# Multimodal Retrieval Augmented Generation (RAG) using Vertex AI Gemini API\n",
    "\n",
    "<table align=\"left\">\n",
    "  <td style=\"text-align: center\">\n",
    "    <a href=\"https://github.com/manuyweissel/Master_Thesis_RAG_Guideline/blob/main/intro_rag.ipynb\">\n",
    "      <img width=\"32px\" src=\"https://upload.wikimedia.org/wikipedia/commons/9/91/Octicons-mark-github.svg\" alt=\"GitHub logo\"><br> View on GitHub\n",
    "    </a>\n",
    "  </td>  \n",
    "</table>"
   ]
  },
  {
   "cell_type": "markdown",
   "metadata": {},
   "source": [
    "| | | \n",
    "|-|-|\n",
    "|Author(s) | [Manu Weissel](https://www.linkedin.com/in/man%C3%BA-weissel-618127211/) |"
   ]
  },
  {
   "cell_type": "markdown",
   "metadata": {
    "id": "VK1Q5ZYdVL4Y",
    "jp-MarkdownHeadingCollapsed": true,
    "tags": []
   },
   "source": [
    "## Overview\n",
    "Retrieval-Augmented Generation (RAG) is a groundbreaking technique in the field of natural language processing (NLP) that merges the extensive knowledge capacity of large language models (LLMs) with the specificity and relevance of information retrieval systems. By uploading relevant documents, RAG models can generate responses that are not only contextually accurate but also deeply informed by relevant external data sources. \n",
    "Retrieval augmented generation (RAG) has become a popular paradigm for enabling LLMs to access external data and also as a mechanism for grounding to mitigate against hallucinations.\n",
    "\n",
    "The RAG approach involves two main steps:\n",
    "\n",
    "1. **Retrieval of Information:** The model searches a large dataset or corpus to find pieces of information that are relevant to the input query. This dataset can be anything from the entirety of Wikipedia to a specialized database tailored to a specific domain.\n",
    "2. **Generation of Responses:** The model then combines this retrieved information with the original query to generate a response. This process leverages the power of generative models, like GPT (Generative Pre-trained Transformer), BERT (Bidirectional and Auto-Regressive Transformers) or Gemini, which are trained to produce coherent and contextually relevant text based on the inputs they receive.\n",
    "\n",
    "### Gemini\n",
    "Gemini is a family of generative AI models developed by Google DeepMind that is designed for multimodal use cases. The Gemini API gives you access to the Gemini 1.0 Pro Vision and Gemini 1.0 Pro models.\n",
    "\n",
    "### Comparing text-based and multimodal RAG\n",
    "Multimodal RAG offers several advantages over text-based RAG:\n",
    "\n",
    "1. **Enhanced knowledge access:** Multimodal RAG can access and process both textual and visual information, providing a richer and more comprehensive knowledge base for the LLM.\n",
    "2. **Improved reasoning capabilities:** By incorporating visual cues, multimodal RAG can make better informed inferences across different types of data modalities.\n",
    "\n",
    "This notebook shows you how to use RAG with Vertex AI Gemini API, [text embeddings](https://cloud.google.com/vertex-ai/docs/generative-ai/model-reference/text-embeddings), and [multimodal embeddings](https://cloud.google.com/vertex-ai/docs/generative-ai/model-reference/multimodal-embeddings), to build a document search engine.\n",
    "\n",
    "Through hands-on examples, you will discover how to construct a multimedia-rich metadata repository of your document sources, enabling search, comparison, and reasoning across diverse information streams. Summarised you will learn how to perform multimodal RAG where you can perform Q&A over a financial document filled with both text and images."
   ]
  },
  {
   "cell_type": "markdown",
   "metadata": {
    "id": "KnpYxfesh2rI"
   },
   "source": [
    "# Set up Vertex AI\n",
    "\n",
    "\n",
    "This tutorial uses components of Google Cloud:\n",
    "\n",
    "- Vertex AI\n",
    "\n",
    "In order to access Vertex AI and create a free-trial account, following steps are necessary:.\n",
    "1. Enter your Google credentials [here](https://console.cloud.google.com/freetrial?hl=de&facet_utm_source=%28direct%29&facet_utm_campaign=%28direct%29&facet_utm_medium=%28none%29&facet_url=https%3A%2F%2Fcloud.google.com%2Fvertex-ai%2Fpricing&facet_id_list=%5B39300012%2C+39300022%2C+39300118%2C+39300195%2C+39300251%2C+39300317%2C+39300320%2C+39300326%2C+39300345%2C+39300354%2C+39300364%2C+39300373%2C+39300412%2C+39300421%2C+39300436%2C+39300471%2C+39300488%2C+39300496%2C+39300498%5D&_ga=2.268870644.400606400.1709743568-1134076064.1709743561). If you don't have a google Account you need to create one.\n",
    "2. You will have to enter your credit card information, but there will be NO costs.\n",
    "3. Follow the required steps to use the Google Cloud Platform services. \n",
    "4. You will be able to use Vertex AI for the next 90 days.\n",
    "5. Click on following Icon to open this code in you google vertex AI workbench.\n"
   ]
  },
  {
   "cell_type": "markdown",
   "metadata": {},
   "source": [
    "<table align=\"left\">\n",
    "  <td style=\"text-align: center\">\n",
    "    <a href=\"https://console.cloud.google.com/vertex-ai/workbench/deploy-notebook?download_url=https://raw.githubusercontent.com/manuyweissel/Master_Thesis_RAG_Guideline/main/intro_rag.ipynb\">\n",
    "      <img src=\"https://www.gstatic.com/images/branding/gcpiconscolors/vertexai/v1/32px.svg\" alt=\"Vertex AI logo\"><br> Open in Vertex AI Workbench\n",
    "    </a>\n",
    "  </td>    \n",
    "</table>"
   ]
  },
  {
   "cell_type": "markdown",
   "metadata": {},
   "source": [
    "6. On the right side of the page you can a Tutorial to create a user managed notebook instance. Follow the mentioned steps.\n",
    "- Please start the tutorial and then stay at the first step. Since your project 'My First Project' was already created, you can proceed to the second part of the first step. Don't upgrade your Free Trail if you want to avoid uncessary costs. \n",
    "- Press 'Enable the Notebooks API'. This can take up to 5 minutes. DON'T rush to the next step. \n",
    "- After enableing the Notebooks API the layout should change and after scrolling down you should be able to press create. Do not proceed with any other steps . \n",
    "7. After proceeding with these steps a notebook with JupyterLab should open itself. After loading click on 'OPEN', confirm the deployment and then you are ready to go!  .\n",
    "\n"
   ]
  },
  {
   "cell_type": "markdown",
   "metadata": {},
   "source": [
    "## Please proceed if and ONLY if you have set up Vertex AI in JupyterLab on Google Cloud Workspace!"
   ]
  },
  {
   "cell_type": "markdown",
   "metadata": {
    "id": "RQT500QqVPIb"
   },
   "source": [
    "### Objectives\n",
    "\n",
    "This notebook provides a guide to building a document search engine using multimodal retrieval augmented generation (RAG), step by step:\n",
    "\n",
    "1. Extract and store metadata of documents containing both text and images, and generate embeddings the documents\n",
    "2. Search the metadata with text queries to find similar text or images\n",
    "3. Search the metadata with image queries to find similar images\n",
    "4. Using a text query as input, search for contexual answers using both text and images"
   ]
  },
  {
   "cell_type": "markdown",
   "metadata": {
    "id": "DXJpXzKrh2rJ"
   },
   "source": [
    "## Getting Started\n"
   ]
  },
  {
   "cell_type": "markdown",
   "metadata": {
    "id": "O1vKZZoEh2rL"
   },
   "source": [
    "### Define Google Cloud project information\n"
   ]
  },
  {
   "cell_type": "code",
   "execution_count": 1,
   "metadata": {
    "colab": {
     "base_uri": "https://localhost:8080/"
    },
    "executionInfo": {
     "elapsed": 673,
     "status": "ok",
     "timestamp": 1707913890887,
     "user": {
      "displayName": "",
      "userId": ""
     },
     "user_tz": -330
    },
    "id": "gJqZ76rJh2rM",
    "outputId": "ed164f41-97f3-411d-8cba-d853d71957b9",
    "tags": []
   },
   "outputs": [
    {
     "name": "stdout",
     "output_type": "stream",
     "text": [
      "Your project ID is: gemini-pro-langchain\n"
     ]
    }
   ],
   "source": [
    "# Define project information\n",
    "\n",
    "import sys\n",
    "\n",
    "PROJECT_ID = \"\"  # @param {type:\"string\"}\n",
    "LOCATION = \"us-central1\"  # @param {type:\"string\"}\n",
    "\n",
    "# if not running on colab, try to get the PROJECT_ID automatically\n",
    "if \"google.colab\" not in sys.modules:\n",
    "    import subprocess\n",
    "\n",
    "    PROJECT_ID = subprocess.check_output(\n",
    "        [\"gcloud\", \"config\", \"get-value\", \"project\"], text=True\n",
    "    ).strip()\n",
    "\n",
    "print(f\"Your project ID is: {PROJECT_ID}\")"
   ]
  },
  {
   "cell_type": "code",
   "execution_count": 2,
   "metadata": {
    "id": "D48gUW5-h2rM",
    "tags": []
   },
   "outputs": [],
   "source": [
    "import sys\n",
    "\n",
    "# Initialize Vertex AI\n",
    "import vertexai\n",
    "\n",
    "vertexai.init(project=PROJECT_ID, location=LOCATION)"
   ]
  },
  {
   "cell_type": "markdown",
   "metadata": {
    "id": "BuQwwRiniVFG"
   },
   "source": [
    "### Import libraries\n"
   ]
  },
  {
   "cell_type": "code",
   "execution_count": 3,
   "metadata": {
    "executionInfo": {
     "elapsed": 647,
     "status": "ok",
     "timestamp": 1707913944466,
     "user": {
      "displayName": "",
      "userId": ""
     },
     "user_tz": -330
    },
    "id": "rtMowvm-yQ97",
    "tags": []
   },
   "outputs": [],
   "source": [
    "from IPython.display import Markdown, display\n",
    "from vertexai.generative_models import (\n",
    "    Content,\n",
    "    GenerationConfig,\n",
    "    GenerationResponse,\n",
    "    GenerativeModel,\n",
    "    HarmCategory,\n",
    "    HarmBlockThreshold,\n",
    "    Image,\n",
    "    Part,\n",
    ")"
   ]
  },
  {
   "cell_type": "markdown",
   "metadata": {
    "id": "r-TX_R_xh2rM"
   },
   "source": [
    "### Load the Gemini 1.0 Pro and Gemini 1.0 Pro Vision model\n"
   ]
  },
  {
   "cell_type": "code",
   "execution_count": 4,
   "metadata": {
    "executionInfo": {
     "elapsed": 2,
     "status": "ok",
     "timestamp": 1707913901768,
     "user": {
      "displayName": "",
      "userId": ""
     },
     "user_tz": -330
    },
    "id": "SvMwSRJJh2rM",
    "tags": []
   },
   "outputs": [],
   "source": [
    "text_model = GenerativeModel(\"gemini-1.0-pro\")\n",
    "multimodal_model = GenerativeModel(\"gemini-1.0-pro-vision\")"
   ]
  },
  {
   "cell_type": "markdown",
   "metadata": {
    "id": "1lCfREXK5SWD"
   },
   "source": [
    "### Download custom Python modules and utilities\n",
    "\n",
    "The cell below will download some helper functions needed for this notebook, to improve readability. You can also view the code (`intro_multimodal_rag_utils.py`) directly on [Github](https://raw.githubusercontent.com/manuyweissel/Master_Thesis_RAG_Guideline/main/utils/intro_multimodal_rag_utils.py)."
   ]
  },
  {
   "cell_type": "code",
   "execution_count": 5,
   "metadata": {
    "id": "XhiFT91850ZZ",
    "tags": []
   },
   "outputs": [],
   "source": [
    "import os\n",
    "import urllib.request\n",
    "import sys\n",
    "\n",
    "if not os.path.exists(\"utils\"):\n",
    "    os.makedirs(\"utils\")\n",
    "\n",
    "\n",
    "# download the helper scripts from utils folder\n",
    "url_prefix = \"https://raw.githubusercontent.com/manuyweissel/Master_Thesis_RAG_Guideline/main/utils/\"\n",
    "files = [\"intro_multimodal_rag_utils.py\"]\n",
    "\n",
    "for fname in files:\n",
    "    urllib.request.urlretrieve(f\"{url_prefix}/{fname}\", filename=f\"utils/{fname}\")"
   ]
  },
  {
   "cell_type": "markdown",
   "metadata": {
    "id": "g7bKCQMFT7JT"
   },
   "source": [
    "#### Get documents and images from GCS"
   ]
  },
  {
   "cell_type": "code",
   "execution_count": 7,
   "metadata": {
    "tags": []
   },
   "outputs": [],
   "source": [
    "from utils.intro_multimodal_rag_utils import get_document_metadata"
   ]
  },
  {
   "cell_type": "code",
   "execution_count": 8,
   "metadata": {
    "colab": {
     "base_uri": "https://localhost:8080/"
    },
    "executionInfo": {
     "elapsed": 87150,
     "status": "ok",
     "timestamp": 1707914065279,
     "user": {
      "displayName": "",
      "userId": ""
     },
     "user_tz": -330
    },
    "id": "X8hE0tWD-lf8",
    "outputId": "e7a363ca-34a0-49cb-8d95-4d60b5f002ce",
    "tags": []
   },
   "outputs": [
    {
     "name": "stdout",
     "output_type": "stream",
     "text": [
      "\n",
      "\n",
      " Processing the file: --------------------------------- data/BMW_2023_Q2.pdf \n",
      "\n",
      "\n",
      "Processing page: 1\n",
      "Extracting image from page: 1, saved as: images/BMW_2023_Q2.pdf_image_0_0_28.jpeg\n",
      "Processing page: 2\n",
      "Processing page: 3\n",
      "Processing page: 4\n",
      "Processing page: 5\n",
      "Processing page: 6\n",
      "Processing page: 7\n",
      "Processing page: 8\n",
      "Processing page: 9\n",
      "Processing page: 10\n",
      "Processing page: 11\n",
      "Processing page: 12\n",
      "Processing page: 13\n",
      "Processing page: 14\n",
      "Processing page: 15\n",
      "Processing page: 16\n",
      "Processing page: 17\n",
      "Processing page: 18\n",
      "Processing page: 19\n",
      "\n",
      "\n",
      " --- Completed processing. ---\n"
     ]
    }
   ],
   "source": [
    "# Specify the PDF folder with multiple PDF\n",
    "\n",
    "# pdf_folder_path = \"/content/data/\" # if running in Google Colab/Colab Enterprise\n",
    "pdf_folder_path = \"data/\"  # if running in Vertex AI Workbench.\n",
    "\n",
    "# Specify the image description prompt. Change it\n",
    "image_description_prompt = \"\"\"Explain what is going on in the image.\n",
    "If it's a table, extract all elements of the table.\n",
    "If it's a graph, explain the findings in the graph.\n",
    "Do not include any numbers that are not mentioned in the image.\n",
    "\"\"\"\n",
    "\n",
    "# Extract text and image metadata from the PDF document\n",
    "text_metadata_df, image_metadata_df = get_document_metadata(\n",
    "    multimodal_model,  # we are passing gemini 1.0 pro vision model\n",
    "    pdf_folder_path,\n",
    "    image_save_dir=\"images\",\n",
    "    image_description_prompt=image_description_prompt,\n",
    "    embedding_size=1408,\n",
    "    # add_sleep_after_page = True, # Uncomment this if you are running into API quota issues\n",
    "    # sleep_time_after_page = 5,\n",
    "    # generation_config = # see next cell\n",
    "    # safety_settings =  # see next cell\n",
    ")\n",
    "\n",
    "print(\"\\n\\n --- Completed processing. ---\")"
   ]
  },
  {
   "cell_type": "markdown",
   "metadata": {
    "id": "iBhoOkutUtPr"
   },
   "source": [
    "### Import the helper functions to implement RAG\n",
    "\n",
    "You will be importing the following functions which will be used in the remainder of this notebook to implement RAG:\n",
    "\n",
    "* **get_similar_text_from_query():** Given a text query, finds text from the document which are relevant, using cosine similarity algorithm. It uses text embeddings from the metadata to compute and the results can be filtered by top score, page/chunk number, or embedding size.\n",
    "* **print_text_to_text_citation():** Prints the source (citation) and details of the retrieved text from the `get_similar_text_from_query()` function.\n",
    "* **get_similar_image_from_query():** Given an image path or an image, finds images from the document which are relevant. It uses image embeddings from the metadata.\n",
    "* **print_text_to_image_citation():** Prints the source (citation) and the details of retrieved images from the `get_similar_image_from_query()` fuction.\n",
    "* **get_gemini_response():** Interacts with a Gemini model to answer questions based on a combination of text and image inputs.\n",
    "* **display_images():**  Displays a series of images provided as paths or PIL Image objects."
   ]
  },
  {
   "cell_type": "code",
   "execution_count": 11,
   "metadata": {
    "executionInfo": {
     "elapsed": 645,
     "status": "ok",
     "timestamp": 1707914180634,
     "user": {
      "displayName": "",
      "userId": ""
     },
     "user_tz": -330
    },
    "id": "Tngn_vrIKdE1",
    "tags": []
   },
   "outputs": [],
   "source": [
    "from utils.intro_multimodal_rag_utils import (\n",
    "    get_similar_text_from_query,\n",
    "    print_text_to_text_citation,\n",
    "    get_similar_image_from_query,\n",
    "    print_text_to_image_citation,\n",
    "    get_gemini_response,\n",
    "    display_images,\n",
    ")"
   ]
  },
  {
   "cell_type": "markdown",
   "metadata": {
    "id": "efJPPrzRhvIT"
   },
   "source": [
    "## Multimodal retrieval augmented generation (RAG)\n",
    "\n",
    "Let's bring everything together to implement multimodal RAG. You will use all the elements that you've explored in previous sections to implement the multimodal RAG. These are the steps:\n",
    "\n",
    "* **Step 1:** The user gives a query in text format where the expected information is available in the document and is embedded in images and text.\n",
    "* **Step 2:** Find all text chunks from the pages in the documents using a method similar to the one you explored in `Text Search`.\n",
    "* **Step 3:** Find all similar images from the pages based on the user query matched with `image_description` using a method identical to the one you explored in `Image Search`.\n",
    "* **Step 4:** Combine all similar text and images found in steps 2 and 3 as `context_text` and `context_images`.\n",
    "* **Step 5:** With the help of Gemini, we can pass the user query with text and image context found in steps 2 & 3. You can also add a specific instruction the model should remember while answering the user query.\n",
    "* **Step 6:** Gemini produces the answer, and you can print the citations to check all relevant text and images used to address the query."
   ]
  },
  {
   "cell_type": "markdown",
   "metadata": {
    "id": "EI62Hzuw_0_b"
   },
   "source": [
    "### Step 1: User query"
   ]
  },
  {
   "cell_type": "code",
   "execution_count": 17,
   "metadata": {
    "executionInfo": {
     "elapsed": 653,
     "status": "ok",
     "timestamp": 1707900140679,
     "user": {
      "displayName": "",
      "userId": ""
     },
     "user_tz": -330
    },
    "id": "XvTKFwOPHLQ_",
    "tags": []
   },
   "outputs": [],
   "source": [
    "# this time we are not passing any images, but just a simple text query.\n",
    "\n",
    "query = \"\"\"Questions:\n",
    " - - What are the key takes for the second quarter for BMW based on the earning call transcript 'BMW_2023_Q2.pdf'? Tell me the four most important key takes. \n",
    " \"\"\""
   ]
  },
  {
   "cell_type": "markdown",
   "metadata": {
    "id": "UUqlkKUaYvZA"
   },
   "source": [
    "### Step 2: Get all relevant text chunks"
   ]
  },
  {
   "cell_type": "code",
   "execution_count": 18,
   "metadata": {
    "executionInfo": {
     "elapsed": 653,
     "status": "ok",
     "timestamp": 1707900143343,
     "user": {
      "displayName": "",
      "userId": ""
     },
     "user_tz": -330
    },
    "id": "r65yBb5gR_NG",
    "tags": []
   },
   "outputs": [],
   "source": [
    "# Retrieve relevant chunks of text based on the query\n",
    "matching_results_chunks_data = get_similar_text_from_query(\n",
    "    query,\n",
    "    text_metadata_df,\n",
    "    column_name=\"text_embedding_chunk\",\n",
    "    top_n=10,\n",
    "    chunk_text=True,\n",
    ")"
   ]
  },
  {
   "cell_type": "markdown",
   "metadata": {
    "id": "mIgXgVIpYzxj"
   },
   "source": [
    "### Step 3: Get all relevant images"
   ]
  },
  {
   "cell_type": "code",
   "execution_count": 19,
   "metadata": {
    "executionInfo": {
     "elapsed": 2,
     "status": "ok",
     "timestamp": 1707900144005,
     "user": {
      "displayName": "",
      "userId": ""
     },
     "user_tz": -330
    },
    "id": "wzu5Gf4yR_J4",
    "tags": []
   },
   "outputs": [],
   "source": [
    "# Get all relevant images based on user query\n",
    "matching_results_image_fromdescription_data = get_similar_image_from_query(\n",
    "    text_metadata_df,\n",
    "    image_metadata_df,\n",
    "    query=query,\n",
    "    column_name=\"text_embedding_from_image_description\",\n",
    "    image_emb=False,\n",
    "    top_n=10,\n",
    "    embedding_size=1408,\n",
    ")"
   ]
  },
  {
   "cell_type": "markdown",
   "metadata": {
    "id": "RhUpWlGAY2uG"
   },
   "source": [
    "### Step 4: Create context_text and context_images"
   ]
  },
  {
   "cell_type": "code",
   "execution_count": 20,
   "metadata": {
    "executionInfo": {
     "elapsed": 1,
     "status": "ok",
     "timestamp": 1707900146010,
     "user": {
      "displayName": "",
      "userId": ""
     },
     "user_tz": -330
    },
    "id": "B_EEuuLCe6Y5",
    "tags": []
   },
   "outputs": [],
   "source": [
    "# combine all the selected relevant text chunks\n",
    "context_text = []\n",
    "for key, value in matching_results_chunks_data.items():\n",
    "    context_text.append(value[\"chunk_text\"])\n",
    "final_context_text = \"\\n\".join(context_text)\n",
    "\n",
    "# combine all the relevant images and their description generated by Gemini\n",
    "context_images = []\n",
    "for key, value in matching_results_image_fromdescription_data.items():\n",
    "    context_images.extend(\n",
    "        [\"Image: \", value[\"image_object\"], \"Caption: \", value[\"image_description\"]]\n",
    "    )"
   ]
  },
  {
   "cell_type": "markdown",
   "metadata": {
    "id": "rHrtodcBAEu9"
   },
   "source": [
    "### Step 5: Pass context to Gemini"
   ]
  },
  {
   "cell_type": "code",
   "execution_count": 21,
   "metadata": {
    "colab": {
     "base_uri": "https://localhost:8080/",
     "height": 975
    },
    "executionInfo": {
     "elapsed": 14374,
     "status": "ok",
     "timestamp": 1707900162344,
     "user": {
      "displayName": "",
      "userId": ""
     },
     "user_tz": -330
    },
    "id": "aZuhtJu7fW4n",
    "outputId": "3992482f-b1cf-449d-a961-35d19df807fc",
    "tags": []
   },
   "outputs": [
    {
     "data": {
      "text/markdown": [
       "1. **Strong financial performance:** BMW delivered a solid performance in Q2 2023, with an EBIT margin of 11.3% for the quarter and 12.6% for the first half-year.\n",
       "2. **Automotive segment growth:** The Automotive segment achieved an EBIT margin of 9.2% in Q2 and 10.6% for the half-year, driven by strong demand, favorable pricing, and cost discipline.\n",
       "3. **Increased guidance:** BMW raised its guidance for the EBIT margin and return on capital employed in the Automotive segment, as well as the outlook for return on equity in the Financial Services segment.\n",
       "4. **Continued investment in future technologies:** BMW continues to invest in electromobility, digitalization, and automated driving, with a CapEx ratio of 5.1% for Q2 and 4.4% for the first half-year."
      ],
      "text/plain": [
       "<IPython.core.display.Markdown object>"
      ]
     },
     "execution_count": 21,
     "metadata": {},
     "output_type": "execute_result"
    }
   ],
   "source": [
    "prompt = f\"\"\" Instructions: Compare the images and the text provided as Context: to answer multiple Question:\n",
    "Make sure to think thoroughly before answering the question and put the necessary steps to arrive at the answer in bullet points for easy explainability.\n",
    "If unsure, respond, \"Not enough context to answer\".\n",
    "\n",
    "Context:\n",
    " - Text Context:\n",
    " {final_context_text}\n",
    " - Image Context:\n",
    " {context_images}\n",
    "\n",
    "{query}\n",
    "\n",
    "Answer:\n",
    "\"\"\"\n",
    "\n",
    "# Generate Gemini response with streaming output\n",
    "response = get_gemini_response(\n",
    "        multimodal_model,\n",
    "        model_input=[prompt],\n",
    "        stream=True,\n",
    "        generation_config=GenerationConfig(temperature=0.4, max_output_tokens=2048),\n",
    "    )\n",
    "Markdown(response)"
   ]
  },
  {
   "cell_type": "markdown",
   "metadata": {
    "id": "L0FtXYl1fzKh"
   },
   "source": [
    "### Step 6: Print citations and references"
   ]
  },
  {
   "cell_type": "code",
   "execution_count": 22,
   "metadata": {
    "colab": {
     "base_uri": "https://localhost:8080/"
    },
    "collapsed": true,
    "executionInfo": {
     "elapsed": 648,
     "status": "ok",
     "timestamp": 1707900201676,
     "user": {
      "displayName": "",
      "userId": ""
     },
     "user_tz": -330
    },
    "id": "06vYM4MOHJ1-",
    "jupyter": {
     "outputs_hidden": true
    },
    "outputId": "608067bd-360e-405e-be30-cf41056173e7",
    "tags": []
   },
   "outputs": [
    {
     "name": "stdout",
     "output_type": "stream",
     "text": [
      "\u001b[91mCitation 1: Matched text: \n",
      "\u001b[0m\n",
      "\u001b[94mscore: \u001b[0m 0.8\n",
      "\u001b[94mfile_name: \u001b[0m BMW_2023_Q2.pdf\n",
      "\u001b[94mpage_number: \u001b[0m 1\n",
      "\u001b[94mchunk_number: \u001b[0m 1\n",
      "\u001b[94mchunk_text: \u001b[0m 1 Bayerische Motoren Werke \n",
      "Aktiengesellschaft (BMWYY) Q2 2023 \n",
      "Earnings Call Transcript \n",
      "Aug. 03, 2023 3:04 PM ETBayerische Motoren Werke Aktiengesellschaft ADR EACH \n",
      "REPR 0.33333 SHS SPONSORED (BMWYY) Stock, BAMXF Stock, BYMOF Stock \n",
      " \n",
      " \n",
      " \n",
      "SA Transcripts \n",
      "145.06K Followers \n",
      "Following \n",
      "2 \n",
      "Q2: 2023-08-03 Earnings Summary \n",
      "Play CallSlides \n",
      "EPS of $1.60 misses by $0.23 | Revenue of $40.73B (15.17% Y/Y) misses by $512.38M \n",
      "Bayerische Motoren Werke Aktiengesellschaft (OTCPK:BMWYY) Q2 2023 Earnings \n",
      "Conference Call August 3, 2023 8:00 AM ET \n",
      "Company Participants \n",
      "Max Schberl  Investor Relations \n",
      "Walter Mertl  Chief Financial Officer \n",
      "Oliver Zipse  Chairman of the Board of Management, BMW AG \n",
      "Conference Call Participants \n",
      "Daniel Roeska  Bernstein Research \n",
      "Dorothee Cresswell  Exane BNP Paribas \n",
      "Henning Cosman  Barclays \n",
      "Michael Tyndall  HSBC \n",
      "Stephen Reitman  Societe Generale \n",
      "Horst Schneider  Bank of America \n",
      "Philippe Houchois  Jefferies \n",
      "Jose Asumendi  JPMorgan \n",
      "Max Schberl \n",
      "Good afternoon\n",
      "\u001b[91mCitation 2: Matched text: \n",
      "\u001b[0m\n",
      "\u001b[94mscore: \u001b[0m 0.77\n",
      "\u001b[94mfile_name: \u001b[0m BMW_2023_Q2.pdf\n",
      "\u001b[94mpage_number: \u001b[0m 1\n",
      "\u001b[94mchunk_number: \u001b[0m 2\n",
      "\u001b[94mchunk_text: \u001b[0m  Bank of America \n",
      "Philippe Houchois  Jefferies \n",
      "Jose Asumendi  JPMorgan \n",
      "Max Schberl \n",
      "Good afternoon, ladies and gentlemen. I would like to welcome you all to the BMW Groups \n",
      "Telephone Conference for the Second Quarter Results. With us today are Oliver Zipse, \n",
      "\n",
      "\u001b[91mCitation 3: Matched text: \n",
      "\u001b[0m\n",
      "\u001b[94mscore: \u001b[0m 0.76\n",
      "\u001b[94mfile_name: \u001b[0m BMW_2023_Q2.pdf\n",
      "\u001b[94mpage_number: \u001b[0m 4\n",
      "\u001b[94mchunk_number: \u001b[0m 4\n",
      "\u001b[94mchunk_text: \u001b[0m mostly stable. A credit loss \n",
      "ratio of 0.15% or better to say 15 basis points confirms the high quality of our portfolio. \n",
      "We anticipate that the positive effects from the remarketing of lease returns will remain stable \n",
      "through to the end of this financial year. We therefore now expect a return on equity in the \n",
      "range of 16% to 19% for the full year. \n",
      "Lets move on to the Motorcycles segment. For the past 100 years, the BMW Motorrad brand \n",
      "has offered an impressive range of attractive products. Its strong portfolio contributed to a \n",
      "successful second quarter in 2023 with record figures in deliveries and EBIT margin. Sales \n",
      "reached almost 65,000 units and were therefore 8% higher than the prior-year quarter. The \n",
      "segment also significantly increased its operating result, compared to the second quarter of \n",
      "\n",
      "\u001b[91mCitation 4: Matched text: \n",
      "\u001b[0m\n",
      "\u001b[94mscore: \u001b[0m 0.75\n",
      "\u001b[94mfile_name: \u001b[0m BMW_2023_Q2.pdf\n",
      "\u001b[94mpage_number: \u001b[0m 2\n",
      "\u001b[94mchunk_number: \u001b[0m 1\n",
      "\u001b[94mchunk_text: \u001b[0m Chairman of the Board of Management of BMW AG; and for the first time our new Chief \n",
      "Financial Officer, Walter Mertl who took over from Nicolas Peter in May. He has been with \n",
      "the BMW Group since 1998 and has held various management positions in Finance and Sales \n",
      "in Germany and the UK. Walter, a very warm welcome. \n",
      "First, Walter Mertl will take you through our financial results. Oliver Zipse will then give you \n",
      "a general business update for the BMW Group. Afterwards, we will have time for our Q&A \n",
      "session. \n",
      "So we start first with Walter Mertl. Walter, please go ahead. \n",
      "Walter Mertl \n",
      "Many thanks, Max. Ladies and gentlemen, good afternoon to you all. I am very pleased to be \n",
      "able to present the BMW Groups quarterly results to you for the first time today. In the \n",
      "second quarter of 2023, the BMW Group delivered a solid performance under difficult \n",
      "conditions. The Group EBITDA margin came in at 11.3% for the quarter and 12.6% for the \n",
      "first half-year. \n",
      "In the Automotive segment, we achiev\n",
      "\u001b[91mCitation 5: Matched text: \n",
      "\u001b[0m\n",
      "\u001b[94mscore: \u001b[0m 0.75\n",
      "\u001b[94mfile_name: \u001b[0m BMW_2023_Q2.pdf\n",
      "\u001b[94mpage_number: \u001b[0m 3\n",
      "\u001b[94mchunk_number: \u001b[0m 2\n",
      "\u001b[94mchunk_text: \u001b[0m , you can see how the \n",
      "operating result has developed in the Automotive segment. In the second quarter, EBIT \n",
      "totaled around 2.9 billion, with an EBIT margin of 9.2%. Without depreciation of BBA \n",
      "assets from the purchase price allocation, the margin was 10.2%. For the year to the end of \n",
      "June, the EBIT margin was 10.6%, and 11.7% without the depreciation of BBA assets from \n",
      "the purchase price allocation. \n",
      "Id like to use the next slide to explain the operating result in the Automotive segment in more \n",
      "detail. The bridge starts on the left with Q2 of last year, with an EBIT of 2.5 billion and an \n",
      "EBIT margin of 8.2%. From Q2 2022 to Q2 2023, we see a headwind of around 300 million \n",
      "from the net balance of currency and raw material positions. \n",
      "This is due mainly to currency translation effects from the development of the U.S. dollar, the \n",
      "Chinese renminbi and the Japanese Yen. Raw material prices remain at the same high level as \n",
      "a year ago. Together, volumes, the model mix and strong pri\n",
      "\u001b[91mCitation 6: Matched text: \n",
      "\u001b[0m\n",
      "\u001b[94mscore: \u001b[0m 0.74\n",
      "\u001b[94mfile_name: \u001b[0m BMW_2023_Q2.pdf\n",
      "\u001b[94mpage_number: \u001b[0m 2\n",
      "\u001b[94mchunk_number: \u001b[0m 2\n",
      "\u001b[94mchunk_text: \u001b[0m n at 11.3% for the quarter and 12.6% for the \n",
      "first half-year. \n",
      "In the Automotive segment, we achieved an EBIT margin of 9.2% in the second quarter and \n",
      "10.6% for the half-year. We expect the positive business trend to continue in the second half \n",
      "of the year, particularly due to the ongoing strength of the order bank and an expected \n",
      "improvement in the availability of vehicles. \n",
      "As a result, we communicated an increase in our deliveries forecast for the 2023 financial \n",
      "year as part of an ad hoc announcement on Tuesday. In addition, we raised the guidance for \n",
      "the EBIT margin and return on capital employed in the Automotive segment, as well as the \n",
      "outlook for return on equity in the Financial Services segment. \n",
      "Id now like to take you through our financial figures for the second quarter in more detail. To \n",
      "do so, Ive brought along a few slides with important key figures to explain the main \n",
      "developments and relevant influencing factors. \n",
      "Lets start with the Group. Group earnings befor\n",
      "\u001b[91mCitation 7: Matched text: \n",
      "\u001b[0m\n",
      "\u001b[94mscore: \u001b[0m 0.74\n",
      "\u001b[94mfile_name: \u001b[0m BMW_2023_Q2.pdf\n",
      "\u001b[94mpage_number: \u001b[0m 9\n",
      "\u001b[94mchunk_number: \u001b[0m 1\n",
      "\u001b[94mchunk_text: \u001b[0m Question-and-Answer Session \n",
      "Operator \n",
      "Ladies and gentlemen, we will now begin our Q&A session. [Operator Instructions] Our first \n",
      "question comes from Daniel Roeska from Bernstein Research. \n",
      "Daniel Roeska \n",
      "Thanks very much for taking my questions. Maybe two short ones for Walter and then a more \n",
      "strategic one for Oliver, please. On pricing in Q2, youre down about 5% year-on-year and \n",
      "sequentially. How does that reconcile with your statement on strong pricing? Could you just \n",
      "dissect for us the pricing change kind of mix pricing discounts and how should we think about \n",
      "moving parts kind of for the rest of the year? \n",
      "And then on the working capital in the automotive business, could you specify whether thats \n",
      "unfinished goods or finished goods? And kind of can I read into that that youre quite \n",
      "confident on your H1 as you are kind of priming the channel that we shouldnt or that youre \n",
      "not expecting a significant headwind in H1 at this point in time. \n",
      "And then Oliver, you just outlined the\n",
      "\u001b[91mCitation 8: Matched text: \n",
      "\u001b[0m\n",
      "\u001b[94mscore: \u001b[0m 0.74\n",
      "\u001b[94mfile_name: \u001b[0m BMW_2023_Q2.pdf\n",
      "\u001b[94mpage_number: \u001b[0m 10\n",
      "\u001b[94mchunk_number: \u001b[0m 3\n",
      "\u001b[94mchunk_text: \u001b[0m o. So Im guessing \n",
      "you just want to be near the top end of the guidance range for those two metrics. But can you \n",
      "tell us exactly where the additional spending is going, because its obviously something \n",
      "youve only recently decided to do. And then when it comes into  about into inventories \n",
      "being higher at year end, is that a function of the 5 Series ramping in China? Is it to do with \n",
      "the direct distribution model at MINI or whats driving that? Because some additional color \n",
      "there too would be helpful. \n",
      "My second question is around China. When we think about how intense the local competition \n",
      "is becoming, do you still feel sufficiently well set up with the existing architectures and then \n",
      "obviously NEUE KLASSE from the middle of the decade, so that you can continue to thrive \n",
      "in that market? Because youll be aware that BW and Audi have obviously decided they need \n",
      "access to a local players BEV architecture. So Id like to know whether thats something that \n",
      "would also be an option for yo\n",
      "\u001b[91mCitation 9: Matched text: \n",
      "\u001b[0m\n",
      "\u001b[94mscore: \u001b[0m 0.74\n",
      "\u001b[94mfile_name: \u001b[0m BMW_2023_Q2.pdf\n",
      "\u001b[94mpage_number: \u001b[0m 12\n",
      "\u001b[94mchunk_number: \u001b[0m 2\n",
      "\u001b[94mchunk_text: \u001b[0m or taking the question. My first one is on the phasing of the \n",
      "margin piece. Obviously, the new mid-point of the guidance implies 8.9% automotive EBIT \n",
      "margin for the second half, which is mechanically below the second quarter. At the same \n",
      "time, I understand that some of the drivers of the sequential normalization versus Q1 were \n",
      "rather a bit temporary in nature. Weve talked about several elements of these warranty costs \n",
      "perhaps some compensations in China and the distribution organization, where my \n",
      "understanding is that they are rather a bit temporary in nature. So that  I would expect once \n",
      "these dont repeat in the second half that there is perhaps a bit of upside again compared to the \n",
      "second quarter. So if we could just clarify that piece or if you see these negative impacts as a \n",
      "bit more sustainable, the ones that I think are a bit more one of the nature. And therefore is it \n",
      "perhaps possible that youre more at the very top end or at least in the top half of your new \n",
      "guidance\n",
      "\u001b[91mCitation 10: Matched text: \n",
      "\u001b[0m\n",
      "\u001b[94mscore: \u001b[0m 0.73\n",
      "\u001b[94mfile_name: \u001b[0m BMW_2023_Q2.pdf\n",
      "\u001b[94mpage_number: \u001b[0m 4\n",
      "\u001b[94mchunk_number: \u001b[0m 1\n",
      "\u001b[94mchunk_text: \u001b[0m Free cash flow in the Automotive segment totaled 1.2 billion in the second quarter. The \n",
      "effect from working capital, totaling 2.4 billion, largely resulted from the increase in \n",
      "inventory. Global demand for our vehicles and our order bank remain high. We ensure the \n",
      "availability of the right products and thus fulfill the wishes of our customers, while reducing \n",
      "waiting times. \n",
      "In doing so, we will maintain our profitable growth in the second half of the year. The delta \n",
      "from capital expenditure and depreciation improved free cash flow in the second quarter by \n",
      "0.5 billion. We continue to invest in the mobility of the future with our focus on \n",
      "electromobility, digitalization and automated driving. The CapEx ratio came in at 5.1% for \n",
      "Q2 and 4.4% for the first half year. \n",
      "We expect the ratio for the full year to be around 6%. Allocation to provisions increased free \n",
      "cash flow by around 500 million in Q2 and through the first six months of the year, free cash \n",
      "flow in the Automotive segm\n"
     ]
    }
   ],
   "source": [
    "# Text citations\n",
    "\n",
    "print_text_to_text_citation(\n",
    "    matching_results_chunks_data,\n",
    "    print_top=False,\n",
    "    chunk_text=True,\n",
    ")"
   ]
  }
 ],
 "metadata": {
  "colab": {
   "provenance": []
  },
  "environment": {
   "kernel": "python3",
   "name": "tf2-cpu.2-11.m116",
   "type": "gcloud",
   "uri": "gcr.io/deeplearning-platform-release/tf2-cpu.2-11:m116"
  },
  "kernelspec": {
   "display_name": "Python 3 (Local)",
   "language": "python",
   "name": "python3"
  },
  "language_info": {
   "codemirror_mode": {
    "name": "ipython",
    "version": 3
   },
   "file_extension": ".py",
   "mimetype": "text/x-python",
   "name": "python",
   "nbconvert_exporter": "python",
   "pygments_lexer": "ipython3",
   "version": "3.10.13"
  }
 },
 "nbformat": 4,
 "nbformat_minor": 4
}
